{
  "nbformat": 4,
  "nbformat_minor": 0,
  "metadata": {
    "colab": {
      "provenance": [],
      "authorship_tag": "ABX9TyNT749c/LeKeEzqcqiTVo/z",
      "include_colab_link": true
    },
    "kernelspec": {
      "name": "python3",
      "display_name": "Python 3"
    },
    "language_info": {
      "name": "python"
    }
  },
  "cells": [
    {
      "cell_type": "markdown",
      "metadata": {
        "id": "view-in-github",
        "colab_type": "text"
      },
      "source": [
        "<a href=\"https://colab.research.google.com/github/pcbzmani/python_gaming/blob/main/python_gaming_course.ipynb\" target=\"_parent\"><img src=\"https://colab.research.google.com/assets/colab-badge.svg\" alt=\"Open In Colab\"/></a>"
      ]
    },
    {
      "cell_type": "markdown",
      "source": [
        "**Dice game**"
      ],
      "metadata": {
        "id": "qHR4dDGGZeU0"
      }
    },
    {
      "cell_type": "code",
      "execution_count": 1,
      "metadata": {
        "colab": {
          "base_uri": "https://localhost:8080/"
        },
        "id": "02KlCIwcZLoW",
        "outputId": "c9cf8fb9-02c1-4c92-95de-0d71319a7aa9"
      },
      "outputs": [
        {
          "output_type": "stream",
          "name": "stdout",
          "text": [
            "Enter number of dice you want to Roll : 2\n",
            "Roll the dice(y/n) ? y\n",
            "[2, 1]\n",
            "Roll the dice(y/n) ? y\n",
            "[5, 5]\n",
            "Roll the dice(y/n) ? y\n",
            "[3, 6]\n",
            "Roll the dice(y/n) ? n\n",
            "User Rolled dice at 3 times\n"
          ]
        }
      ],
      "source": [
        "import random\n",
        "\n",
        "def dice_game(num_dice):\n",
        "    counter = 0\n",
        "    while True:\n",
        "        inp = input('Roll the dice(y/n) ? ')\n",
        "        if inp.upper() == 'N':\n",
        "            print(f'User Rolled dice at {counter} times')\n",
        "            break\n",
        "        elif inp.upper() == 'Y':\n",
        "            res = []\n",
        "            counter += 1\n",
        "            for i in range(0,num_dice):\n",
        "                res.append(random.randint(1, 6))\n",
        "            print(res)\n",
        "        else:\n",
        "            print('Enter a valid Character')\n",
        "\n",
        "\n",
        "num_dice = int(input('Enter number of dice you want to Roll : '))\n",
        "\n",
        "dice_game(num_dice)\n"
      ]
    },
    {
      "cell_type": "markdown",
      "source": [],
      "metadata": {
        "id": "J7Dc2oZKZcOH"
      }
    },
    {
      "cell_type": "markdown",
      "source": [],
      "metadata": {
        "id": "k8C-SNptZdSm"
      }
    },
    {
      "cell_type": "code",
      "source": [],
      "metadata": {
        "id": "mqqEOWYTZS_i"
      },
      "execution_count": null,
      "outputs": []
    },
    {
      "cell_type": "markdown",
      "source": [],
      "metadata": {
        "id": "_zAMAhcMZWhQ"
      }
    }
  ]
}